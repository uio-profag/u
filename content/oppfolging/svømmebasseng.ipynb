{
 "cells": [
  {
   "cell_type": "markdown",
   "metadata": {},
   "source": [
    "# Svømmebassengproblemet\n"
   ]
  },
  {
   "cell_type": "markdown",
   "metadata": {},
   "source": [
    "## [Svømmebassengproblemet- desmos aktivitet](https://teacher.desmos.com/activitybuilder/custom/5bed3808b5f7d83ef23cd7c0)\n",
    "<img src=\"pool.png\">"
   ]
  },
  {
   "cell_type": "code",
   "execution_count": null,
   "metadata": {},
   "outputs": [],
   "source": [
    "#Spør om antall fliser i bunnen\n",
    "bunn = input(\"Hvor mange fliser skal det være i bredden på ditt kvadratiske basseng?\")\n",
    "bunn = int(bunn)  #konverterer fra string til integer (tekst til tall)\n",
    "\n",
    "# Beregner antall fliser\n",
    "ant_flis = 4*bunn + 4        # eller 2*(bunn+2) + 2*bunn eller  4*(bunn + 1)\n",
    "\n",
    "print(\"Du trenger\", ant_flis, \" fliser\")\n"
   ]
  },
  {
   "cell_type": "code",
   "execution_count": 3,
   "metadata": {},
   "outputs": [
    {
     "name": "stdout",
     "output_type": "stream",
     "text": [
      "Velkommen til svømmebassengdesigneren.\n",
      "Hvor mange fliser skal det være i bredden på ditt kvadratiske basseng?7\n",
      "Hvilken flistype velger du? Tast 1 for enkel grå (NOK 119) eller 2 for turkis mosaikk (NOK 449,50)3\n",
      "Jeg skjønner ikke hva du mener. Dropp bassenget og kjøp noen fine julegaver istedenfor.\n"
     ]
    }
   ],
   "source": [
    "# Mulig utvidelse\n",
    "\n",
    "pris1 = 119\n",
    "pris2 = 449.50\n",
    "\n",
    "print(\"Velkommen til svømmebassengdesigneren.\")\n",
    "\n",
    "#Spør om input fra brukeren\n",
    "bunn = input(\"Hvor mange fliser skal det være i bredden på ditt kvadratiske basseng?\")\n",
    "bunn = int(bunn)  #koverterer fra str til int (tekst til tall)\n",
    "flistype = input(\"Hvilken flistype velger du? Tast 1 for enkel grå (NOK 119) eller 2 for turkis mosaikk (NOK 449,50)\")\n",
    "\n",
    "\n",
    "# Beregner antall fliser\n",
    "ant_flis = 4*bunn + 4        # eller 2*(bunn+2) + 2*bunn eller  4*(bunn + 1)\n",
    "\n",
    "if flistype == \"1\":\n",
    "    print(\"Du trenger\", ant_flis, \"fliser, og det vil koste\", ant_flis*pris1, \"kroner\")\n",
    "elif flistype == \"2\":\n",
    "    print(\"Du trenger\", ant_flis, \"fliser, og det vil koste\", ant_flis*pris2, \"kroner\")\n",
    "else: \n",
    "    print(\"Jeg skjønner ikke hva du mener. Dropp bassenget og kjøp noen fine julegaver istedenfor.\")\n"
   ]
  },
  {
   "cell_type": "markdown",
   "metadata": {},
   "source": [
    "## Oppgave\n",
    "1. Utvid programmet til å be om prosentvis rabatt og regne ut ny pris.\n",
    "2. Tenk ut flere mulige utvidelser av programmet, og prøv dem. "
   ]
  }
 ],
 "metadata": {
  "kernelspec": {
   "display_name": "Python 3",
   "language": "python",
   "name": "python3"
  },
  "language_info": {
   "codemirror_mode": {
    "name": "ipython",
    "version": 3
   },
   "file_extension": ".py",
   "mimetype": "text/x-python",
   "name": "python",
   "nbconvert_exporter": "python",
   "pygments_lexer": "ipython3",
   "version": "3.6.5"
  }
 },
 "nbformat": 4,
 "nbformat_minor": 2
}
